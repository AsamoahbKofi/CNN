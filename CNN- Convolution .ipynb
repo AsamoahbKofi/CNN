import numpy as np

def conv2d(image, kernel):
    image_height, image_width = image.shape
    kernel_height, kernel_width = kernel.shape

    output_height = image_height - kernel_height + 1
    output_width = image_width - kernel_width + 1

    output = np.zeros((output_height, output_width))  
    regions = []  # Initialize list to store regions
    
    for i in range(output_height):
        for j in range(output_width):
            region = image[i:i + kernel_height, j:j + kernel_width]
            regions.append(region)
            # Perform element-wise multiplication and sum the result
            output[i, j] = np.sum(region * kernel)
    
    return output, regions

image = np.array([[1, 2, 3, 4],
                  [5, 6, 7, 8],
                  [9, 10, 11, 12],
                  [13, 14, 15, 16]])

kernel = np.array([[1, 0],
                   [0, -1]])

output, regions = conv2d(image, kernel)
print("Output:")
print(output)

print("Regions:")
for num, region in enumerate(regions, 1):
    print("\n")
    print(f"Region {num}:")
    print(region)
