{
 "cells": [
  {
   "cell_type": "code",
   "execution_count": 16,
   "metadata": {},
   "outputs": [
    {
     "name": "stdout",
     "output_type": "stream",
     "text": [
      " Output Image -----> \n",
      "[[337. 300. 115.  74.]\n",
      " [  0.   0.   0.   0.]\n",
      " [  0.   0.   0.   0.]\n",
      " [  0.   0.   0.   0.]] \n",
      "\n",
      "\n",
      " Actual Image-----> \n",
      "[[ 2  3  4  5  6]\n",
      " [ 4 78 12 14  1]\n",
      " [ 2  1 10 11 14]\n",
      " [12 13 11 12  1]\n",
      " [21 32 41  5  6]] \n",
      "\n",
      "\n",
      "Regions rolled over: ----->\n",
      "Region number 1\n",
      " [[ 2  3]\n",
      " [ 4 78]]\n",
      "Region number 2\n",
      " [[ 3  4]\n",
      " [78 12]]\n",
      "Region number 3\n",
      " [[ 4  5]\n",
      " [12 14]]\n",
      "Region number 4\n",
      " [[ 5  6]\n",
      " [14  1]]\n"
     ]
    }
   ],
   "source": [
    "import numpy as np\n",
    "\n",
    "def conv2d(image,kernel):\n",
    "    image_height,image_width=image.shape\n",
    "    kernel_height,kernel_width=kernel.shape\n",
    "\n",
    "    output_height=image_height-kernel_height+1\n",
    "    output_width=image_width-kernel_width+1\n",
    "    \n",
    "    output=np.zeros((output_height,output_width))\n",
    "    region=[]\n",
    "    regions_collected=[]\n",
    "\n",
    "    for i in range(output_height):\n",
    "        for j in range(output_width):\n",
    "            region=image[i:i+kernel_height,j:j+kernel_width]\n",
    "            regions_collected.append(region)\n",
    "            output[i,j]=np.sum(region*kernel)\n",
    "\n",
    "        return output,regions_collected\n",
    "    \n",
    "image=np.array([[2,3,4,5,6],[4,78,12,14,1],[2,1,10,11,14],[12,13,11,12,1],[21,32,41,5,6]])\n",
    "kernel=np.array([[2,3],[3,4]])\n",
    "    \n",
    "output_image,regions_col=conv2d(image=image,\n",
    "                    kernel=kernel)\n",
    "\n",
    "print(f' Output Image -----> \\n{output_image} ')\n",
    "print(\"\\n\")\n",
    "\n",
    "print(f' Actual Image-----> \\n{image} ')\n",
    "print(\"\\n\")\n",
    "\n",
    "\n",
    "print(\"Regions rolled over: ----->\")\n",
    "for num,reg in enumerate(regions_col,1):\n",
    "    print(f'Region number {num}\\n {reg}')"
   ]
  },
  {
   "cell_type": "code",
   "execution_count": 8,
   "metadata": {},
   "outputs": [
    {
     "data": {
      "text/plain": [
       "array([[2, 3],\n",
       "       [3, 4]])"
      ]
     },
     "execution_count": 8,
     "metadata": {},
     "output_type": "execute_result"
    }
   ],
   "source": []
  },
  {
   "cell_type": "code",
   "execution_count": null,
   "metadata": {},
   "outputs": [],
   "source": []
  }
 ],
 "metadata": {
  "kernelspec": {
   "display_name": "Python 3",
   "language": "python",
   "name": "python3"
  },
  "language_info": {
   "codemirror_mode": {
    "name": "ipython",
    "version": 3
   },
   "file_extension": ".py",
   "mimetype": "text/x-python",
   "name": "python",
   "nbconvert_exporter": "python",
   "pygments_lexer": "ipython3",
   "version": "3.12.2"
  }
 },
 "nbformat": 4,
 "nbformat_minor": 2
}
