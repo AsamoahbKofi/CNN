{
 "cells": [
  {
   "cell_type": "code",
   "execution_count": 2,
   "metadata": {},
   "outputs": [
    {
     "name": "stdout",
     "output_type": "stream",
     "text": [
      "Output:\n",
      "[[-5. -5. -5.]\n",
      " [-5. -5. -5.]\n",
      " [-5. -5. -5.]]\n",
      "Regions:\n",
      "\n",
      "\n",
      "Region 1:\n",
      "[[1 2]\n",
      " [5 6]]\n",
      "\n",
      "\n",
      "Region 2:\n",
      "[[2 3]\n",
      " [6 7]]\n",
      "\n",
      "\n",
      "Region 3:\n",
      "[[3 4]\n",
      " [7 8]]\n",
      "\n",
      "\n",
      "Region 4:\n",
      "[[ 5  6]\n",
      " [ 9 10]]\n",
      "\n",
      "\n",
      "Region 5:\n",
      "[[ 6  7]\n",
      " [10 11]]\n",
      "\n",
      "\n",
      "Region 6:\n",
      "[[ 7  8]\n",
      " [11 12]]\n",
      "\n",
      "\n",
      "Region 7:\n",
      "[[ 9 10]\n",
      " [13 14]]\n",
      "\n",
      "\n",
      "Region 8:\n",
      "[[10 11]\n",
      " [14 15]]\n",
      "\n",
      "\n",
      "Region 9:\n",
      "[[11 12]\n",
      " [15 16]]\n"
     ]
    }
   ],
   "source": [
    "import numpy as np\n",
    "\n",
    "def conv2d(image, kernel):\n",
    "    image_height, image_width = image.shape\n",
    "    kernel_height, kernel_width = kernel.shape\n",
    "\n",
    "    output_height = image_height - kernel_height + 1\n",
    "    output_width = image_width - kernel_width + 1\n",
    "\n",
    "    output = np.zeros((output_height, output_width))  \n",
    "    regions = []  # Initialize list to store regions\n",
    "    \n",
    "    for i in range(output_height):\n",
    "        for j in range(output_width):\n",
    "            region = image[i:i + kernel_height, j:j + kernel_width]\n",
    "            regions.append(region)\n",
    "            # Perform element-wise multiplication and sum the result\n",
    "            output[i, j] = np.sum(region * kernel)\n",
    "    \n",
    "    return output, regions\n",
    "\n",
    "image = np.array([[1, 2, 3, 4],\n",
    "                  [5, 6, 7, 8],\n",
    "                  [9, 10, 11, 12],\n",
    "                  [13, 14, 15, 16]])\n",
    "\n",
    "kernel = np.array([[1, 0],\n",
    "                   [0, -1]])\n",
    "\n",
    "output, regions = conv2d(image, kernel)\n",
    "print(\"Output:\")\n",
    "print(output)\n",
    "\n",
    "print(\"Regions:\")\n",
    "for num, region in enumerate(regions, 1):\n",
    "    print(\"\\n\")\n",
    "    print(f\"Region {num}:\")\n",
    "    print(region)\n"
   ]
  },
  {
   "cell_type": "code",
   "execution_count": null,
   "metadata": {},
   "outputs": [],
   "source": []
  },
  {
   "cell_type": "code",
   "execution_count": null,
   "metadata": {},
   "outputs": [],
   "source": []
  },
  {
   "cell_type": "code",
   "execution_count": null,
   "metadata": {},
   "outputs": [],
   "source": []
  },
  {
   "cell_type": "code",
   "execution_count": null,
   "metadata": {},
   "outputs": [],
   "source": [
    "\n"
   ]
  },
  {
   "cell_type": "code",
   "execution_count": null,
   "metadata": {},
   "outputs": [],
   "source": []
  },
  {
   "cell_type": "code",
   "execution_count": null,
   "metadata": {},
   "outputs": [],
   "source": []
  },
  {
   "cell_type": "code",
   "execution_count": null,
   "metadata": {},
   "outputs": [],
   "source": []
  }
 ],
 "metadata": {
  "kernelspec": {
   "display_name": "Python 3",
   "language": "python",
   "name": "python3"
  },
  "language_info": {
   "codemirror_mode": {
    "name": "ipython",
    "version": 3
   },
   "file_extension": ".py",
   "mimetype": "text/x-python",
   "name": "python",
   "nbconvert_exporter": "python",
   "pygments_lexer": "ipython3",
   "version": "3.12.2"
  }
 },
 "nbformat": 4,
 "nbformat_minor": 2
}
